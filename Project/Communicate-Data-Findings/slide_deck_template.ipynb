{
 "cells": [
  {
   "cell_type": "markdown",
   "metadata": {
    "slideshow": {
     "slide_type": "skip"
    }
   },
   "source": [
    "# (Investigating Courses Data )\n",
    "## by (Yusuf Yaseen )"
   ]
  },
  {
   "cell_type": "markdown",
   "metadata": {
    "slideshow": {
     "slide_type": "skip"
    }
   },
   "source": [
    "## Investigation Overview\n",
    "\n",
    "> In this investigation I tried to find all valuable relations between variables and each other to make the best use of the data set  \n",
    "\n",
    "## Dataset Overview\n",
    "\n",
    "> The data consists of information about udemy courses which consists of 12 columns [ course_id , course_title , url , is_paid , price , num_subscribers , num_reviews , num_lectures, level , content_duration , published_timestamp , subject ]\n",
    "and it can be found from this link ( https://www.kaggle.com/andrewmvd/udemy-courses )\n",
    "\n"
   ]
  },
  {
   "cell_type": "code",
   "execution_count": 2,
   "metadata": {
    "slideshow": {
     "slide_type": "skip"
    }
   },
   "outputs": [],
   "source": [
    "# import all packages and set plots to be embedded inline\n",
    "import numpy as np\n",
    "import pandas as pd\n",
    "import matplotlib.pyplot as plt\n",
    "import seaborn as sb\n",
    "base_color = sb.color_palette()[0]\n",
    "%matplotlib inline\n",
    "\n",
    "# suppress warnings from final output\n",
    "import warnings\n",
    "warnings.simplefilter(\"ignore\")"
   ]
  },
  {
   "cell_type": "code",
   "execution_count": 3,
   "metadata": {
    "slideshow": {
     "slide_type": "skip"
    }
   },
   "outputs": [
    {
     "data": {
      "text/html": [
       "<div>\n",
       "<style scoped>\n",
       "    .dataframe tbody tr th:only-of-type {\n",
       "        vertical-align: middle;\n",
       "    }\n",
       "\n",
       "    .dataframe tbody tr th {\n",
       "        vertical-align: top;\n",
       "    }\n",
       "\n",
       "    .dataframe thead th {\n",
       "        text-align: right;\n",
       "    }\n",
       "</style>\n",
       "<table border=\"1\" class=\"dataframe\">\n",
       "  <thead>\n",
       "    <tr style=\"text-align: right;\">\n",
       "      <th></th>\n",
       "      <th>course_id</th>\n",
       "      <th>course_title</th>\n",
       "      <th>url</th>\n",
       "      <th>is_paid</th>\n",
       "      <th>price</th>\n",
       "      <th>num_subscribers</th>\n",
       "      <th>num_reviews</th>\n",
       "      <th>num_lectures</th>\n",
       "      <th>level</th>\n",
       "      <th>content_duration</th>\n",
       "      <th>published_timestamp</th>\n",
       "      <th>subject</th>\n",
       "    </tr>\n",
       "  </thead>\n",
       "  <tbody>\n",
       "    <tr>\n",
       "      <th>2916</th>\n",
       "      <td>673420</td>\n",
       "      <td>HTML CSS JavaScript: Most popular ways to code...</td>\n",
       "      <td>https://www.udemy.com/html-css-javascript/</td>\n",
       "      <td>paid</td>\n",
       "      <td>170</td>\n",
       "      <td>9332</td>\n",
       "      <td>172</td>\n",
       "      <td>33</td>\n",
       "      <td>All Levels</td>\n",
       "      <td>3.5</td>\n",
       "      <td>2015-11-18T22:45:19Z</td>\n",
       "      <td>Web Development</td>\n",
       "    </tr>\n",
       "    <tr>\n",
       "      <th>2258</th>\n",
       "      <td>195196</td>\n",
       "      <td>Aprende a improvisar en la guitarra eléctrica</td>\n",
       "      <td>https://www.udemy.com/aprende-a-improvisar-en-...</td>\n",
       "      <td>paid</td>\n",
       "      <td>50</td>\n",
       "      <td>3</td>\n",
       "      <td>0</td>\n",
       "      <td>19</td>\n",
       "      <td>All Levels</td>\n",
       "      <td>3.0</td>\n",
       "      <td>2014-05-05T21:59:45Z</td>\n",
       "      <td>Musical Instruments</td>\n",
       "    </tr>\n",
       "    <tr>\n",
       "      <th>1251</th>\n",
       "      <td>520468</td>\n",
       "      <td>Canva : Graphic Design Theory Volume1</td>\n",
       "      <td>https://www.udemy.com/canva-course-graphic-des...</td>\n",
       "      <td>paid</td>\n",
       "      <td>200</td>\n",
       "      <td>6975</td>\n",
       "      <td>122</td>\n",
       "      <td>29</td>\n",
       "      <td>All Levels</td>\n",
       "      <td>2.5</td>\n",
       "      <td>2015-06-05T21:37:33Z</td>\n",
       "      <td>Graphic Design</td>\n",
       "    </tr>\n",
       "    <tr>\n",
       "      <th>618</th>\n",
       "      <td>55136</td>\n",
       "      <td>Precious Metal Equities</td>\n",
       "      <td>https://www.udemy.com/precious-metal-equities/</td>\n",
       "      <td>paid</td>\n",
       "      <td>20</td>\n",
       "      <td>28</td>\n",
       "      <td>1</td>\n",
       "      <td>8</td>\n",
       "      <td>All Levels</td>\n",
       "      <td>1.0</td>\n",
       "      <td>2013-05-26T14:14:33Z</td>\n",
       "      <td>Business Finance</td>\n",
       "    </tr>\n",
       "    <tr>\n",
       "      <th>1292</th>\n",
       "      <td>644914</td>\n",
       "      <td>Digital Illustration: Make A Custom Character ...</td>\n",
       "      <td>https://www.udemy.com/digital-illustration/</td>\n",
       "      <td>paid</td>\n",
       "      <td>30</td>\n",
       "      <td>1440</td>\n",
       "      <td>16</td>\n",
       "      <td>14</td>\n",
       "      <td>All Levels</td>\n",
       "      <td>1.5</td>\n",
       "      <td>2015-11-03T18:49:10Z</td>\n",
       "      <td>Graphic Design</td>\n",
       "    </tr>\n",
       "    <tr>\n",
       "      <th>1073</th>\n",
       "      <td>93850</td>\n",
       "      <td>Financial Modeling - Facebook Case Study</td>\n",
       "      <td>https://www.udemy.com/financial-modeling-faceb...</td>\n",
       "      <td>paid</td>\n",
       "      <td>25</td>\n",
       "      <td>9</td>\n",
       "      <td>3</td>\n",
       "      <td>13</td>\n",
       "      <td>All Levels</td>\n",
       "      <td>1.5</td>\n",
       "      <td>2013-10-02T05:31:08Z</td>\n",
       "      <td>Business Finance</td>\n",
       "    </tr>\n",
       "    <tr>\n",
       "      <th>3521</th>\n",
       "      <td>442580</td>\n",
       "      <td>Master ASP . NET 4 from scratch</td>\n",
       "      <td>https://www.udemy.com/masteraspnet/</td>\n",
       "      <td>paid</td>\n",
       "      <td>50</td>\n",
       "      <td>613</td>\n",
       "      <td>135</td>\n",
       "      <td>116</td>\n",
       "      <td>All Levels</td>\n",
       "      <td>16.0</td>\n",
       "      <td>2015-08-18T20:58:37Z</td>\n",
       "      <td>Web Development</td>\n",
       "    </tr>\n",
       "    <tr>\n",
       "      <th>1471</th>\n",
       "      <td>188584</td>\n",
       "      <td>Letras en Adobe Illustrator</td>\n",
       "      <td>https://www.udemy.com/letras-en-adobe-illustra...</td>\n",
       "      <td>paid</td>\n",
       "      <td>40</td>\n",
       "      <td>0</td>\n",
       "      <td>0</td>\n",
       "      <td>13</td>\n",
       "      <td>Beginner Level</td>\n",
       "      <td>2.5</td>\n",
       "      <td>2014-04-04T21:23:23Z</td>\n",
       "      <td>Graphic Design</td>\n",
       "    </tr>\n",
       "    <tr>\n",
       "      <th>551</th>\n",
       "      <td>572992</td>\n",
       "      <td>Investing: How to Fix Hidden Flaws Inside Your...</td>\n",
       "      <td>https://www.udemy.com/investing-how-to-fix-hid...</td>\n",
       "      <td>paid</td>\n",
       "      <td>195</td>\n",
       "      <td>58</td>\n",
       "      <td>8</td>\n",
       "      <td>14</td>\n",
       "      <td>All Levels</td>\n",
       "      <td>1.0</td>\n",
       "      <td>2015-12-03T02:30:13Z</td>\n",
       "      <td>Business Finance</td>\n",
       "    </tr>\n",
       "    <tr>\n",
       "      <th>2141</th>\n",
       "      <td>214828</td>\n",
       "      <td>Aprende a tocar percusiones: congas, bongós, m...</td>\n",
       "      <td>https://www.udemy.com/aprende-a-tocar-percusio...</td>\n",
       "      <td>paid</td>\n",
       "      <td>50</td>\n",
       "      <td>14</td>\n",
       "      <td>2</td>\n",
       "      <td>71</td>\n",
       "      <td>All Levels</td>\n",
       "      <td>3.5</td>\n",
       "      <td>2014-05-16T17:07:11Z</td>\n",
       "      <td>Musical Instruments</td>\n",
       "    </tr>\n",
       "    <tr>\n",
       "      <th>2146</th>\n",
       "      <td>147754</td>\n",
       "      <td>Guitar Technique Mastery: The Ultimate Chop Bu...</td>\n",
       "      <td>https://www.udemy.com/the-ultimate-chop-buildi...</td>\n",
       "      <td>paid</td>\n",
       "      <td>20</td>\n",
       "      <td>273</td>\n",
       "      <td>4</td>\n",
       "      <td>6</td>\n",
       "      <td>All Levels</td>\n",
       "      <td>1.5</td>\n",
       "      <td>2014-01-16T17:22:04Z</td>\n",
       "      <td>Musical Instruments</td>\n",
       "    </tr>\n",
       "    <tr>\n",
       "      <th>1949</th>\n",
       "      <td>996888</td>\n",
       "      <td>Play Piano 3: Improvise Chords to Enchanted Ev...</td>\n",
       "      <td>https://www.udemy.com/play-piano-3-improvise-c...</td>\n",
       "      <td>paid</td>\n",
       "      <td>50</td>\n",
       "      <td>809</td>\n",
       "      <td>5</td>\n",
       "      <td>57</td>\n",
       "      <td>All Levels</td>\n",
       "      <td>1.5</td>\n",
       "      <td>2016-10-30T16:33:51Z</td>\n",
       "      <td>Musical Instruments</td>\n",
       "    </tr>\n",
       "    <tr>\n",
       "      <th>202</th>\n",
       "      <td>366514</td>\n",
       "      <td>A Value Investing Approach to the Stock Market</td>\n",
       "      <td>https://www.udemy.com/start-investing-the-righ...</td>\n",
       "      <td>paid</td>\n",
       "      <td>20</td>\n",
       "      <td>1189</td>\n",
       "      <td>12</td>\n",
       "      <td>15</td>\n",
       "      <td>All Levels</td>\n",
       "      <td>1.5</td>\n",
       "      <td>2015-02-19T20:40:23Z</td>\n",
       "      <td>Business Finance</td>\n",
       "    </tr>\n",
       "    <tr>\n",
       "      <th>462</th>\n",
       "      <td>1187084</td>\n",
       "      <td>Forex how traders beat the markest with little...</td>\n",
       "      <td>https://www.udemy.com/forex-how-traders-beat-t...</td>\n",
       "      <td>paid</td>\n",
       "      <td>100</td>\n",
       "      <td>0</td>\n",
       "      <td>0</td>\n",
       "      <td>16</td>\n",
       "      <td>All Levels</td>\n",
       "      <td>1.0</td>\n",
       "      <td>2017-07-06T21:16:13Z</td>\n",
       "      <td>Business Finance</td>\n",
       "    </tr>\n",
       "    <tr>\n",
       "      <th>413</th>\n",
       "      <td>880564</td>\n",
       "      <td>The 7 fundamentals to Successful Cashflow Mana...</td>\n",
       "      <td>https://www.udemy.com/successful-cashflow-mana...</td>\n",
       "      <td>paid</td>\n",
       "      <td>25</td>\n",
       "      <td>7</td>\n",
       "      <td>0</td>\n",
       "      <td>12</td>\n",
       "      <td>All Levels</td>\n",
       "      <td>1.0</td>\n",
       "      <td>2016-07-11T17:22:40Z</td>\n",
       "      <td>Business Finance</td>\n",
       "    </tr>\n",
       "    <tr>\n",
       "      <th>540</th>\n",
       "      <td>38456</td>\n",
       "      <td>Essential Options: Strategies for Mastering th...</td>\n",
       "      <td>https://www.udemy.com/essentialoptions/</td>\n",
       "      <td>paid</td>\n",
       "      <td>50</td>\n",
       "      <td>211</td>\n",
       "      <td>9</td>\n",
       "      <td>27</td>\n",
       "      <td>Intermediate Level</td>\n",
       "      <td>5.0</td>\n",
       "      <td>2013-03-06T05:28:43Z</td>\n",
       "      <td>Business Finance</td>\n",
       "    </tr>\n",
       "    <tr>\n",
       "      <th>2182</th>\n",
       "      <td>55569</td>\n",
       "      <td>Los 7 Acordes para Tocarlo Todo en un fin de s...</td>\n",
       "      <td>https://www.udemy.com/los-7-acordes-para-tocar...</td>\n",
       "      <td>paid</td>\n",
       "      <td>20</td>\n",
       "      <td>332</td>\n",
       "      <td>23</td>\n",
       "      <td>42</td>\n",
       "      <td>Beginner Level</td>\n",
       "      <td>2.0</td>\n",
       "      <td>2013-07-06T10:46:25Z</td>\n",
       "      <td>Musical Instruments</td>\n",
       "    </tr>\n",
       "    <tr>\n",
       "      <th>206</th>\n",
       "      <td>249950</td>\n",
       "      <td>Binary Options Course - Level 2</td>\n",
       "      <td>https://www.udemy.com/binary-options-course-le...</td>\n",
       "      <td>free</td>\n",
       "      <td>0</td>\n",
       "      <td>5874</td>\n",
       "      <td>207</td>\n",
       "      <td>9</td>\n",
       "      <td>Intermediate Level</td>\n",
       "      <td>2.0</td>\n",
       "      <td>2014-06-26T02:00:55Z</td>\n",
       "      <td>Business Finance</td>\n",
       "    </tr>\n",
       "    <tr>\n",
       "      <th>2552</th>\n",
       "      <td>883000</td>\n",
       "      <td>Complete WordPress Theme Developer Course With...</td>\n",
       "      <td>https://www.udemy.com/the-complete-wordpress-t...</td>\n",
       "      <td>paid</td>\n",
       "      <td>150</td>\n",
       "      <td>3415</td>\n",
       "      <td>312</td>\n",
       "      <td>160</td>\n",
       "      <td>All Levels</td>\n",
       "      <td>25.0</td>\n",
       "      <td>2016-07-01T20:06:13Z</td>\n",
       "      <td>Web Development</td>\n",
       "    </tr>\n",
       "    <tr>\n",
       "      <th>1415</th>\n",
       "      <td>1165588</td>\n",
       "      <td>The Art of Icon Design: Create Custom Flat Ico...</td>\n",
       "      <td>https://www.udemy.com/the-art-of-icon-design-c...</td>\n",
       "      <td>paid</td>\n",
       "      <td>90</td>\n",
       "      <td>778</td>\n",
       "      <td>2</td>\n",
       "      <td>24</td>\n",
       "      <td>All Levels</td>\n",
       "      <td>1.5</td>\n",
       "      <td>2017-04-04T15:04:21Z</td>\n",
       "      <td>Graphic Design</td>\n",
       "    </tr>\n",
       "  </tbody>\n",
       "</table>\n",
       "</div>"
      ],
      "text/plain": [
       "      course_id                                       course_title  \\\n",
       "2916     673420  HTML CSS JavaScript: Most popular ways to code...   \n",
       "2258     195196      Aprende a improvisar en la guitarra eléctrica   \n",
       "1251     520468              Canva : Graphic Design Theory Volume1   \n",
       "618       55136                            Precious Metal Equities   \n",
       "1292     644914  Digital Illustration: Make A Custom Character ...   \n",
       "1073      93850           Financial Modeling - Facebook Case Study   \n",
       "3521     442580                    Master ASP . NET 4 from scratch   \n",
       "1471     188584                        Letras en Adobe Illustrator   \n",
       "551      572992  Investing: How to Fix Hidden Flaws Inside Your...   \n",
       "2141     214828  Aprende a tocar percusiones: congas, bongós, m...   \n",
       "2146     147754  Guitar Technique Mastery: The Ultimate Chop Bu...   \n",
       "1949     996888  Play Piano 3: Improvise Chords to Enchanted Ev...   \n",
       "202      366514     A Value Investing Approach to the Stock Market   \n",
       "462     1187084  Forex how traders beat the markest with little...   \n",
       "413      880564  The 7 fundamentals to Successful Cashflow Mana...   \n",
       "540       38456  Essential Options: Strategies for Mastering th...   \n",
       "2182      55569  Los 7 Acordes para Tocarlo Todo en un fin de s...   \n",
       "206      249950                    Binary Options Course - Level 2   \n",
       "2552     883000  Complete WordPress Theme Developer Course With...   \n",
       "1415    1165588  The Art of Icon Design: Create Custom Flat Ico...   \n",
       "\n",
       "                                                    url is_paid  price  \\\n",
       "2916         https://www.udemy.com/html-css-javascript/    paid    170   \n",
       "2258  https://www.udemy.com/aprende-a-improvisar-en-...    paid     50   \n",
       "1251  https://www.udemy.com/canva-course-graphic-des...    paid    200   \n",
       "618      https://www.udemy.com/precious-metal-equities/    paid     20   \n",
       "1292        https://www.udemy.com/digital-illustration/    paid     30   \n",
       "1073  https://www.udemy.com/financial-modeling-faceb...    paid     25   \n",
       "3521                https://www.udemy.com/masteraspnet/    paid     50   \n",
       "1471  https://www.udemy.com/letras-en-adobe-illustra...    paid     40   \n",
       "551   https://www.udemy.com/investing-how-to-fix-hid...    paid    195   \n",
       "2141  https://www.udemy.com/aprende-a-tocar-percusio...    paid     50   \n",
       "2146  https://www.udemy.com/the-ultimate-chop-buildi...    paid     20   \n",
       "1949  https://www.udemy.com/play-piano-3-improvise-c...    paid     50   \n",
       "202   https://www.udemy.com/start-investing-the-righ...    paid     20   \n",
       "462   https://www.udemy.com/forex-how-traders-beat-t...    paid    100   \n",
       "413   https://www.udemy.com/successful-cashflow-mana...    paid     25   \n",
       "540             https://www.udemy.com/essentialoptions/    paid     50   \n",
       "2182  https://www.udemy.com/los-7-acordes-para-tocar...    paid     20   \n",
       "206   https://www.udemy.com/binary-options-course-le...    free      0   \n",
       "2552  https://www.udemy.com/the-complete-wordpress-t...    paid    150   \n",
       "1415  https://www.udemy.com/the-art-of-icon-design-c...    paid     90   \n",
       "\n",
       "      num_subscribers  num_reviews  num_lectures               level  \\\n",
       "2916             9332          172            33          All Levels   \n",
       "2258                3            0            19          All Levels   \n",
       "1251             6975          122            29          All Levels   \n",
       "618                28            1             8          All Levels   \n",
       "1292             1440           16            14          All Levels   \n",
       "1073                9            3            13          All Levels   \n",
       "3521              613          135           116          All Levels   \n",
       "1471                0            0            13      Beginner Level   \n",
       "551                58            8            14          All Levels   \n",
       "2141               14            2            71          All Levels   \n",
       "2146              273            4             6          All Levels   \n",
       "1949              809            5            57          All Levels   \n",
       "202              1189           12            15          All Levels   \n",
       "462                 0            0            16          All Levels   \n",
       "413                 7            0            12          All Levels   \n",
       "540               211            9            27  Intermediate Level   \n",
       "2182              332           23            42      Beginner Level   \n",
       "206              5874          207             9  Intermediate Level   \n",
       "2552             3415          312           160          All Levels   \n",
       "1415              778            2            24          All Levels   \n",
       "\n",
       "      content_duration   published_timestamp              subject  \n",
       "2916               3.5  2015-11-18T22:45:19Z      Web Development  \n",
       "2258               3.0  2014-05-05T21:59:45Z  Musical Instruments  \n",
       "1251               2.5  2015-06-05T21:37:33Z       Graphic Design  \n",
       "618                1.0  2013-05-26T14:14:33Z     Business Finance  \n",
       "1292               1.5  2015-11-03T18:49:10Z       Graphic Design  \n",
       "1073               1.5  2013-10-02T05:31:08Z     Business Finance  \n",
       "3521              16.0  2015-08-18T20:58:37Z      Web Development  \n",
       "1471               2.5  2014-04-04T21:23:23Z       Graphic Design  \n",
       "551                1.0  2015-12-03T02:30:13Z     Business Finance  \n",
       "2141               3.5  2014-05-16T17:07:11Z  Musical Instruments  \n",
       "2146               1.5  2014-01-16T17:22:04Z  Musical Instruments  \n",
       "1949               1.5  2016-10-30T16:33:51Z  Musical Instruments  \n",
       "202                1.5  2015-02-19T20:40:23Z     Business Finance  \n",
       "462                1.0  2017-07-06T21:16:13Z     Business Finance  \n",
       "413                1.0  2016-07-11T17:22:40Z     Business Finance  \n",
       "540                5.0  2013-03-06T05:28:43Z     Business Finance  \n",
       "2182               2.0  2013-07-06T10:46:25Z  Musical Instruments  \n",
       "206                2.0  2014-06-26T02:00:55Z     Business Finance  \n",
       "2552              25.0  2016-07-01T20:06:13Z      Web Development  \n",
       "1415               1.5  2017-04-04T15:04:21Z       Graphic Design  "
      ]
     },
     "execution_count": 3,
     "metadata": {},
     "output_type": "execute_result"
    }
   ],
   "source": [
    "df = pd.read_csv('udemy_courses.csv')\n",
    "df.head()\n",
    "df.loc[(df.is_paid == False),'is_paid']=\"free\"\n",
    "df.loc[(df.is_paid == True),'is_paid']=\"paid\"\n",
    "df.sample(20)\n"
   ]
  },
  {
   "cell_type": "code",
   "execution_count": 4,
   "metadata": {
    "slideshow": {
     "slide_type": "skip"
    }
   },
   "outputs": [],
   "source": [
    "courses_data = df.copy()"
   ]
  },
  {
   "cell_type": "code",
   "execution_count": 5,
   "metadata": {
    "slideshow": {
     "slide_type": "skip"
    }
   },
   "outputs": [],
   "source": [
    "courses_data['published_timestamp'] = pd.to_datetime(df['published_timestamp'])"
   ]
  },
  {
   "cell_type": "code",
   "execution_count": 6,
   "metadata": {
    "slideshow": {
     "slide_type": "skip"
    }
   },
   "outputs": [
    {
     "name": "stdout",
     "output_type": "stream",
     "text": [
      "<class 'pandas.core.frame.DataFrame'>\n",
      "RangeIndex: 3678 entries, 0 to 3677\n",
      "Data columns (total 14 columns):\n",
      " #   Column               Non-Null Count  Dtype              \n",
      "---  ------               --------------  -----              \n",
      " 0   course_id            3678 non-null   int64              \n",
      " 1   course_title         3678 non-null   object             \n",
      " 2   url                  3678 non-null   object             \n",
      " 3   is_paid              3678 non-null   object             \n",
      " 4   price                3678 non-null   int64              \n",
      " 5   num_subscribers      3678 non-null   int64              \n",
      " 6   num_reviews          3678 non-null   int64              \n",
      " 7   num_lectures         3678 non-null   int64              \n",
      " 8   level                3678 non-null   object             \n",
      " 9   content_duration     3678 non-null   float64            \n",
      " 10  published_timestamp  3678 non-null   datetime64[ns, UTC]\n",
      " 11  subject              3678 non-null   object             \n",
      " 12  year                 3678 non-null   int64              \n",
      " 13  month                3678 non-null   int64              \n",
      "dtypes: datetime64[ns, UTC](1), float64(1), int64(7), object(5)\n",
      "memory usage: 402.4+ KB\n"
     ]
    }
   ],
   "source": [
    "courses_data['year']= courses_data.published_timestamp.dt.year\n",
    "courses_data['month'] = courses_data.published_timestamp.dt.month\n",
    "courses_data.info()\n"
   ]
  },
  {
   "cell_type": "markdown",
   "metadata": {
    "slideshow": {
     "slide_type": "skip"
    }
   },
   "source": [
    "## (Courses Creation Year Distribution)\n",
    "\n",
    "Udemy was founded at 2010 so we can see it was growing rapidly over years and its courses become famous fast "
   ]
  },
  {
   "cell_type": "markdown",
   "metadata": {
    "slideshow": {
     "slide_type": "skip"
    }
   },
   "source": [
    "## ( Distribution Of paid vs free Courses)\n",
    "\n",
    "> Udemy paid courses have more features than free courses as course duration is not limited with 2 hours  also students and instructors could connect together and paid courses provide a valuable certificate at the end of the course so both instructors and students prefer paid courses over free one  ."
   ]
  },
  {
   "cell_type": "code",
   "execution_count": 7,
   "metadata": {
    "slideshow": {
     "slide_type": "skip"
    }
   },
   "outputs": [],
   "source": [
    "# plt.figure(figsize = [10, 6]) \n",
    "\n",
    "# sb.countplot( data=courses_data ,x='is_paid',color = base_color);\n",
    "# df_count = courses_data.shape[0]\n",
    "# paid = courses_data['is_paid'].value_counts()\n",
    "# # Recalculating the type_counts just to have clarity.\n",
    "\n",
    "# # get the current tick locations and labels\n",
    "# locs, labels = plt.xticks(rotation=45) \n",
    "# plt.title(\"Paid - Free Courses\")\n",
    "# plt.xlabel('Courses')\n",
    "# plt.ylabel('Count')\n",
    "# # loop through each pair of locations and labels\n",
    "# for loc, label in zip(locs, labels):\n",
    "\n",
    "#     # get the text property for the label to get the correct count\n",
    "#     count = paid[label.get_text()]\n",
    "#     pct_string = '{:0.1f}%'.format(100*count/df_count)\n",
    "\n",
    "#     # print the annotation just below the top of the bar\n",
    "#     plt.text(loc, count+30, pct_string, ha = 'center', color = 'black')\n"
   ]
  },
  {
   "cell_type": "markdown",
   "metadata": {
    "slideshow": {
     "slide_type": "slide"
    }
   },
   "source": [
    "## (Courses Price Distribution )\n",
    "\n",
    "> As we mentioned udemy paid courses have more advantages and on the same times udemy prices is quite good that may explain why it had high demand courses range is very good  ."
   ]
  },
  {
   "cell_type": "code",
   "execution_count": 20,
   "metadata": {
    "slideshow": {
     "slide_type": "subslide"
    }
   },
   "outputs": [
    {
     "data": {
      "image/png": "[encoded data removed]",
      "text/plain": [
       "<Figure size 720x720 with 1 Axes>"
      ]
     },
     "metadata": {},
     "output_type": "display_data"
    }
   ],
   "source": []
  },
  {
   "cell_type": "markdown",
   "metadata": {
    "collapsed": true,
    "slideshow": {
     "slide_type": "slide"
    }
   },
   "source": [
    "## (Subject Distribution )\n",
    "\n",
    "> See which subject is preferable"
   ]
  },
  {
   "cell_type": "code",
   "execution_count": 11,
   "metadata": {
    "slideshow": {
     "slide_type": "subslide"
    }
   },
   "outputs": [
    {
     "data": {
      "image/png": "[encoded data removed]",
      "text/plain": [
       "<Figure size 720x720 with 1 Axes>"
      ]
     },
     "metadata": {
      "needs_background": "light"
     },
     "output_type": "display_data"
    }
   ],
   "source": []
  },
  {
   "cell_type": "markdown",
   "metadata": {
    "slideshow": {
     "slide_type": "skip"
    }
   },
   "source": [
    "### We can see that web development is more preferable"
   ]
  },
  {
   "cell_type": "markdown",
   "metadata": {
    "collapsed": true,
    "slideshow": {
     "slide_type": "slide"
    }
   },
   "source": [
    "## (Correlation between Number of Subscribers and number of reviews)\n",
    "\n",
    "> We can see that there is a positive correlation"
   ]
  },
  {
   "cell_type": "code",
   "execution_count": 12,
   "metadata": {
    "slideshow": {
     "slide_type": "subslide"
    }
   },
   "outputs": [
    {
     "data": {
      "image/png": "[encoded data removed]",
      "text/plain": [
       "<Figure size 720x720 with 1 Axes>"
      ]
     },
     "metadata": {
      "needs_background": "light"
     },
     "output_type": "display_data"
    }
   ],
   "source": []
  },
  {
   "cell_type": "markdown",
   "metadata": {
    "slideshow": {
     "slide_type": "skip"
    }
   },
   "source": [
    "### ( Noticing that paid courses are much subscribers )"
   ]
  },
  {
   "cell_type": "code",
   "execution_count": 44,
   "metadata": {
    "slideshow": {
     "slide_type": "skip"
    }
   },
   "outputs": [],
   "source": [
    "\n",
    "# paid_subscribers = courses_data.groupby(['is_paid'])['num_subscribers'].sum()\n",
    "# paid_subscribers\n",
    "# plt.figure(figsize = [10, 10]) \n",
    "\n",
    "# sb.barplot(x=paid_subscribers.index, y=paid_subscribers ,color = 'r',errwidth  = 0)\n",
    "# # Change seaborn plot size\n",
    "# plt.title(\"Subscribtion for paid courses\")\n",
    "# plt.xlabel('Courses')\n",
    "# plt.ylabel('Number of subscribtion')"
   ]
  },
  {
   "cell_type": "markdown",
   "metadata": {
    "slideshow": {
     "slide_type": "slide"
    }
   },
   "source": [
    "### ( Correlation between number of lectures and content duration for levels)"
   ]
  },
  {
   "cell_type": "code",
   "execution_count": 14,
   "metadata": {
    "slideshow": {
     "slide_type": "subslide"
    }
   },
   "outputs": [
    {
     "data": {
      "image/png": "[encoded data removed]",
      "text/plain": [
       "<Figure size 1080x360 with 1 Axes>"
      ]
     },
     "metadata": {
      "needs_background": "light"
     },
     "output_type": "display_data"
    }
   ],
   "source": []
  },
  {
   "cell_type": "markdown",
   "metadata": {
    "slideshow": {
     "slide_type": "notes"
    }
   },
   "source": [
    "> Once you're ready to finish your presentation, check your output by using\n",
    "nbconvert to export the notebook and set up a server for the slides. From the\n",
    "terminal or command line, use the following expression:\n",
    "> > `jupyter nbconvert slide_deck_template.ipynb --to slides --post serve`\n",
    "\n",
    "> This should open a tab in your web browser where you can scroll through your\n",
    "presentation. Sub-slides can be accessed by pressing 'down' when viewing its parent\n",
    "slide. Make sure you remove all of the quote-formatted guide notes like this one\n",
    "before you finish your presentation!"
   ]
  },
  {
   "cell_type": "code",
   "execution_count": null,
   "metadata": {},
   "outputs": [],
   "source": []
  }
 ],
 "metadata": {
  "celltoolbar": "Slideshow",
  "kernelspec": {
   "display_name": "Python 3",
   "language": "python",
   "name": "python3"
  },
  "language_info": {
   "codemirror_mode": {
    "name": "ipython",
    "version": 3
   },
   "file_extension": ".py",
   "mimetype": "text/x-python",
   "name": "python",
   "nbconvert_exporter": "python",
   "pygments_lexer": "ipython3",
   "version": "3.8.5"
  },
  "latex_envs": {
   "LaTeX_envs_menu_present": true,
   "autoclose": false,
   "autocomplete": true,
   "bibliofile": "biblio.bib",
   "cite_by": "apalike",
   "current_citInitial": 1,
   "eqLabelWithNumbers": true,
   "eqNumInitial": 1,
   "hotkeys": {
    "equation": "Ctrl-E",
    "itemize": "Ctrl-I"
   },
   "labels_anchors": false,
   "latex_user_defs": false,
   "report_style_numbering": false,
   "user_envs_cfg": false
  },
  "toc": {
   "base_numbering": 1,
   "nav_menu": {},
   "number_sections": false,
   "sideBar": true,
   "skip_h1_title": false,
   "title_cell": "Table of Contents",
   "title_sidebar": "Contents",
   "toc_cell": false,
   "toc_position": {},
   "toc_section_display": true,
   "toc_window_display": true
  },
  "varInspector": {
   "cols": {
    "lenName": 16,
    "lenType": 16,
    "lenVar": 40
   },
   "kernels_config": {
    "python": {
     "delete_cmd_postfix": "",
     "delete_cmd_prefix": "del ",
     "library": "var_list.py",
     "varRefreshCmd": "print(var_dic_list())"
    },
    "r": {
     "delete_cmd_postfix": ") ",
     "delete_cmd_prefix": "rm(",
     "library": "var_list.r",
     "varRefreshCmd": "cat(var_dic_list()) "
    }
   },
   "types_to_exclude": [
    "module",
    "function",
    "builtin_function_or_method",
    "instance",
    "_Feature"
   ],
   "window_display": false
  }
 },
 "nbformat": 4,
 "nbformat_minor": 2
}
